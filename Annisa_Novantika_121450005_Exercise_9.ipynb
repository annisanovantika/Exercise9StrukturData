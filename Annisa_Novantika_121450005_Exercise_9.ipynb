{
  "nbformat": 4,
  "nbformat_minor": 0,
  "metadata": {
    "colab": {
      "provenance": [],
      "authorship_tag": "ABX9TyNzJ5KHM6P2g2pUF0TyaAgJ",
      "include_colab_link": true
    },
    "kernelspec": {
      "name": "python3",
      "display_name": "Python 3"
    },
    "language_info": {
      "name": "python"
    }
  },
  "cells": [
    {
      "cell_type": "markdown",
      "metadata": {
        "id": "view-in-github",
        "colab_type": "text"
      },
      "source": [
        "<a href=\"https://colab.research.google.com/github/annisanovantika/Exercise9StrukturData/blob/main/Annisa_Novantika_121450005_Exercise_9.ipynb\" target=\"_parent\"><img src=\"https://colab.research.google.com/assets/colab-badge.svg\" alt=\"Open In Colab\"/></a>"
      ]
    },
    {
      "cell_type": "markdown",
      "source": [
        "**Nama  : Annisa Novantika**\\\n",
        "**NIM   : 121450005**\\\n",
        "**Kelas : RC**"
      ],
      "metadata": {
        "id": "sBnm_Ldb3BXM"
      }
    },
    {
      "cell_type": "markdown",
      "source": [
        "# **Introduction Section**\n",
        "1. Jelaskan definisi object dalam Paradigma Object-Oriented!\n",
        "2. Jelaskan tiga tujuan dalam Paradigma Object-Oriented!\n",
        "3. Jelaskan tiga prinsip dalam Paradigma Object-Oriented!\n",
        "4. Sebutkan contoh design pattern dalam Paradigma Object-Oriented!"
      ],
      "metadata": {
        "id": "Hcbrmue4NGpc"
      }
    },
    {
      "cell_type": "markdown",
      "source": [
        "**Jawab :**\n",
        "1. Objek adalah entitas yang memiliki atribut, karakter (bahavour) dan kadang kala disertai kondisi (state)\n",
        "2. - Mampu menangani input yang tidak terduga (*Robustness*)\n",
        "   - menjalankan perubahan minimal pada perangkat keras dan sistem operasi platform  yang berbeda (*Adaptability*)\n",
        "   - Kode yang sama harus dapat digunakan sebagai komponen (*Reusability*)\n",
        "3. - Modularity, Kumpulan fungsi dan kelas yang terkait erat yang didefinisikan bersama dalam satu file kode Sumber. \n",
        "   - Abstraction \n",
        "     *   Jenis data yang disimpan \n",
        "     *   Operasi didukung pada mereka\n",
        "     * Jenis parameter operasi\n",
        "\n",
        "   - Encapsulation, Diasumsikan beberapa struktur data bersifat publik atau yang dianggap sebagai detail internal.\n",
        "4. Iterator Class (Kelas Iterator)\n",
        "\n",
        "\n",
        "\n"
      ],
      "metadata": {
        "id": "2M7LCBBiM_FF"
      }
    },
    {
      "cell_type": "markdown",
      "source": [
        "# **Class and Object**\n",
        "1. Jelaskan definisi Class!\n",
        "2. Jelaskan perbedaan Attribute dengan Method!\n",
        "3. Jelaskan apa itu instansiasi Object!\n",
        "4. Jelaskan apa itu identifier!"
      ],
      "metadata": {
        "id": "wYiKybrGN43n"
      }
    },
    {
      "cell_type": "markdown",
      "source": [
        "**Jawab :**\n",
        "1. Class merupakan tipe data dari data dan metode untuk tipe objek tertentu. Class berfungsi sebagai sarana utama untuk abstraksi dalam Pemrograman berorientasi objek.\n",
        "2. Method adalah Satu set perilaku dalam bentuk fungsi anggota dengan implementasi yang umum Untuk semua instance dari Kelass itu. Sedangkan Attribute adalah informasi status untuk setiap instance.\n",
        "3. Instansiasi object merupakan proses membuat objek dan kejas.\n",
        "4. Identifier adalah nama yang digunakan untuk mengidentifikasi atau memberikan identitas untuk  variabel, function, class, module, ataupun object lainnya.\n"
      ],
      "metadata": {
        "id": "Ac2sk8YUy4A7"
      }
    },
    {
      "cell_type": "markdown",
      "source": [
        "# **Implementing Class**\n",
        "Implementasikan kelas diagram \"Kendaraan\" berikut ke dalam Python!\n",
        "\n",
        "Class Kendaraan :\n",
        "- string nomorPlat\n",
        "- string merk\n",
        "- string jenis\n",
        "- string warna\n",
        "- int tanggalBeli\n",
        "- int bulanBeli\n",
        "- int tahunBeli\n",
        "- double berat\n",
        "- double harga\n",
        "- showTanggalPembelian()"
      ],
      "metadata": {
        "id": "FezZsRcNOKg0"
      }
    },
    {
      "cell_type": "code",
      "source": [
        "class Kendaraan:\n",
        "  def __init__(self, nomorPlat, merk, jenis, warna, tanggalBeli, bulanBeli, tahunBeli, berat, harga):\n",
        "    self.nomorPlat = nomorPlat\n",
        "    self.merk = merk\n",
        "    self.jenis = jenis\n",
        "    self.warna = warna\n",
        "    self.tanggalBeli = tanggalBeli\n",
        "    self.bulanBeli = bulanBeli\n",
        "    self.tahunBeli = tahunBeli\n",
        "    self.berat = berat\n",
        "    self.harga = harga\n",
        "  def lihatkan_spesifikasi(self):\n",
        "    print(f\"Mobil saya berplat nomor {self.nomorPlat},  bermerk {self.merk} , dengan jenis {self.jenis} dibeli tanggal {self.tanggalBeli} / {self.bulanBeli} / {self.tahunBeli}, dengan berat {self.berat}kg dibeli dengan harga Rp.{self.harga}M\")\n",
        "\n",
        "mobil_spek = Kendaraan(\"BE 4334 KI\", \"Lamborghini Urus\", \"SUV\", \"Silver\", 8, 11, 2022, 2200, 9)\n",
        "mobil_spek.lihatkan_spesifikasi()"
      ],
      "metadata": {
        "colab": {
          "base_uri": "https://localhost:8080/"
        },
        "id": "4v_d_5-7va8E",
        "outputId": "9662a68b-b661-4df0-cee4-4ddc84930c47"
      },
      "execution_count": null,
      "outputs": [
        {
          "output_type": "stream",
          "name": "stdout",
          "text": [
            "Mobil saya berplat nomor BE 4334 KI,  bermerk Lamborghini Urus , dengan jenis SUV dibeli tanggal 8 / 11 / 2022, dengan berat 2200kg dibeli dengan harga Rp.9M\n"
          ]
        }
      ]
    },
    {
      "cell_type": "markdown",
      "source": [
        "# **Main OOP Concept**\n",
        "1. Jelaskan konsep encapsulation dalam Paradigma Object-Oriented!\n",
        "2. Jelaskan konsep inheritance dalam Paradigma Object-Oriented!\n",
        "3. Jelaskan perbedaan public method dan private method dalam encapsulation!\n",
        "4. Jelaskan perbedaan superclass dan subclass dalam inheritance!"
      ],
      "metadata": {
        "id": "SKgRjF0OOkky"
      }
    },
    {
      "cell_type": "markdown",
      "source": [
        "**Jawab : **\n",
        "1. - Kita dapat membatasi akses ke metode dan variabel.\n",
        "   - Ini mencegah data dari modifikasi langsung\n",
        "   - Dalam Python, menunjukkan atribut pribadi menggunakan garis bawah sebagai awalan yaitu __tunggal_ atau ganda_\n",
        "2. Mekanisme Untuk organisasi modular dan hierarkis adalah teknik yang dikenal sebagai Pewarisan.\n",
        "3. Dalam Public method, method dan property tersebut dapat diakses dari luar atau dari dalam class tersebut. Sedangkan pada Private method, hak akses yang melarang method dan property yang menggunakannya dilarang diakses dari luar class, ataupun hak akses private hanya bisa diakses dari dalam class itu\n",
        "Sendiri.\n",
        "4. **Superclass** digunakan Untuk menunjukkan hirarki class yang berarti class dasar dari subclass. Sedangkan. **Subclass**, adalah class anak atau turunan secara hirarki dari Superclass"
      ],
      "metadata": {
        "id": "8nSLeAKj1AgI"
      }
    },
    {
      "cell_type": "markdown",
      "source": [
        "# **Programming Exercise**\n",
        "- Buatlah class diagram dari code python berikut ini:"
      ],
      "metadata": {
        "id": "u8lgyxcBO4bo"
      }
    },
    {
      "cell_type": "code",
      "execution_count": null,
      "metadata": {
        "id": "bIvatQNuMitu"
      },
      "outputs": [],
      "source": [
        "class Koordinat:\n",
        "\tdef __init__(self,x,y):\n",
        "\t\tself.z = 0\n",
        "\t\tself.x = x\n",
        "\t\tself.y = y\n",
        "\tdef set_x(self,x):\n",
        "\t\tself.x = x\n",
        "\tdef increment_x(self):\n",
        "\t\tself.x+=1\n",
        "\tdef __str__(self):\n",
        "\t\treturn f\"x : {self.x} , y:{self.y} , z:{self.z}\""
      ]
    },
    {
      "cell_type": "markdown",
      "source": [
        "**Jawab :**\n",
        "\n",
        "![Screenshot (32).png](data:image/png;base64,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)"
      ],
      "metadata": {
        "id": "Bo17LkuP2aAB"
      }
    },
    {
      "cell_type": "markdown",
      "source": [
        "- Implementasikan class diagram berikut menjadi program python!\n",
        "\n",
        "![Screenshot (28).png](data:image/png;base64,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)"
      ],
      "metadata": {
        "id": "_pmZ_ZW0PRqr"
      }
    },
    {
      "cell_type": "code",
      "source": [
        "from numpy import sqrt\n",
        "class Koordinat:\n",
        "  def __init__(self, x, y, z):\n",
        "    self.x = x\n",
        "    self.y = y\n",
        "    self.z = z\n",
        "\n",
        "  def setx(self, X):\n",
        "    self.x = X\n",
        "    return self.x\n",
        "  def sety(self, Y):\n",
        "    self.y = Y\n",
        "    return self.y\n",
        "\n",
        "  def setz(self, Z):\n",
        "    self.z = Z\n",
        "    return self.z\n",
        "\n",
        "class Vector(Koordinat):\n",
        "\n",
        "  def setKoordinat(self, X, Y, Z):\n",
        "    self.x = X\n",
        "    self.y = Y\n",
        "    self.z = Z\n",
        "\n",
        "  def getKoordinat(self):\n",
        "    print(f\" Koordinat Vektor adalah: {self.x, self.y, self.z}\")\n",
        "\n",
        "  def norm(self):\n",
        "    Norm = sqrt(self.x**2 + self.y**2 + self.z**2)\n",
        "    return Norm\n",
        "koor = Vector(2,4,5)\n",
        "koor.getKoordinat()\n",
        "koor.norm()"
      ],
      "metadata": {
        "id": "3GWN7QeJPV2y",
        "colab": {
          "base_uri": "https://localhost:8080/"
        },
        "outputId": "33a15a6a-1cea-4c3b-a3bb-dace8e8b71eb"
      },
      "execution_count": null,
      "outputs": [
        {
          "output_type": "stream",
          "name": "stdout",
          "text": [
            " Koordinat Vektor adalah: (2, 4, 5)\n"
          ]
        },
        {
          "output_type": "execute_result",
          "data": {
            "text/plain": [
              "6.708203932499369"
            ]
          },
          "metadata": {},
          "execution_count": 1
        }
      ]
    },
    {
      "cell_type": "markdown",
      "source": [
        "- fungsi norm() adalah fungsi untuk menghitung norm dari sebuah vector yaitu\n",
        "norm = $\\sqrt{x^2 + y^2 + z^2}$ . Buatlah fungsi untuk menghitung norm dari vector berdasarkan class yang telah anda buat! \n",
        "\n",
        "\n",
        "\n"
      ],
      "metadata": {
        "id": "ltJxiBPvQO6H"
      }
    },
    {
      "cell_type": "code",
      "source": [
        "class Koordinat:\n",
        "  def __init__(self,x,y,z):\n",
        "    self.x = x\n",
        "    self.y = y\n",
        "    self.z = z\n",
        "\n",
        "  def setx(self, x):\n",
        "    self.x = x\n",
        "    \n",
        "  def sety(self, y):\n",
        "    self.y = y\n",
        "\n",
        "  def setz(self, z):\n",
        "    self.z = z"
      ],
      "metadata": {
        "id": "yN7pQF1wZdwc"
      },
      "execution_count": null,
      "outputs": []
    },
    {
      "cell_type": "code",
      "source": [
        "class vektor(Koordinat):\n",
        "  def setKoordinat(self, Koordinat):\n",
        "    self.Koordinat = Koordinat\n",
        "\n",
        "  def getKoordinat(self):\n",
        "    return self.Koordinat\n",
        "\n",
        "  def norm(self):\n",
        "    print((self.x*2 + self.y*2 + self.z*2)*0.5)\n",
        "\n",
        "a = vektor(3,6,9)\n",
        "a.norm()"
      ],
      "metadata": {
        "colab": {
          "base_uri": "https://localhost:8080/"
        },
        "id": "Hic7raqMZkKT",
        "outputId": "979d8e0c-5e86-47e8-8a1c-547a7b8a3cf7"
      },
      "execution_count": null,
      "outputs": [
        {
          "output_type": "stream",
          "name": "stdout",
          "text": [
            "18.0\n"
          ]
        }
      ]
    },
    {
      "cell_type": "markdown",
      "source": [
        "- Euclidian Distance adalah jarak antara 2 vector dan didefinisikan sebagai \n",
        "$$d = \\sqrt{ (x_1 - x_2)^2 + (y_1 - y_2)^2 + (x_1 - x_2)^2 } $$\n",
        "buatlah program untuk menghitung euclidian distance antara 2 vector berdasarkan class yang telah anda buat!"
      ],
      "metadata": {
        "id": "XBvSOGqBZTOv"
      }
    },
    {
      "cell_type": "code",
      "source": [
        "# Program Menghitung Euclidian Distance antara 2 Vektor\n",
        "class vektor:\n",
        "  def __init__(self, x1, x2, y1, y2):\n",
        "    self.x1 = x1\n",
        "    self.y2 = y2\n",
        "    self.x2 = x2\n",
        "    self.y1 = y1\n",
        "    \n",
        "  def norm(self):\n",
        "    norm = ((self.x1 - self.x2)**2 + (self.y1 - self.y2)**2 + (self.x1 - self. x2)**2)**0.5\n",
        "    return norm\n",
        "\n",
        "panjang = vektor (3, 6, 9, 12)\n",
        "hasil = panjang.norm()\n",
        "\n",
        "print(\"d = \", hasil)"
      ],
      "metadata": {
        "colab": {
          "base_uri": "https://localhost:8080/"
        },
        "id": "CysxZ3rdZvsU",
        "outputId": "3fa61030-d65c-43c9-e9ea-68232c9f8d7b"
      },
      "execution_count": null,
      "outputs": [
        {
          "output_type": "stream",
          "name": "stdout",
          "text": [
            "d =  5.196152422706632\n"
          ]
        }
      ]
    },
    {
      "cell_type": "markdown",
      "source": [
        "- Perhatikan tabel berikut\n",
        "\n",
        "![Screenshot (30).png](data:image/png;base64,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)\n",
        "\n",
        "Salah satu metode dalam data science untuk melakukan klasifikasi adalah dengan menggunakan k-nearest neighbor, dimana cara menentukan label kelas adalah dengan cara melihat tetangga dengan euclidian distance terdekat. Tentukan kelas dari vector H dengan cara:\n",
        "\n",
        "- Tentukan 3 tetangga paling dekat dari H\n",
        "- dari 3 tetangga tersebut, pilih kelas yang paling banyak muncul\n",
        "- Jadikan kelas yang paling banyak muncul tersebut sebagai kelas dari vector H\n",
        "\n",
        "Implementasikan algoritma tersebut menggunakan program python dengan paradigma object-oriented programming yang telah anda pelajari!"
      ],
      "metadata": {
        "id": "IRATdcyeRWNo"
      }
    },
    {
      "cell_type": "code",
      "source": [
        "class Koordinat :\n",
        "  def __init__ (self, x, y , z):\n",
        "    self.x = x\n",
        "    self.y = y\n",
        "    self.z = z\n",
        "  \n",
        "  def setx(self):\n",
        "    return self.x\n",
        "\n",
        "  def sety(self):\n",
        "    return self.y\n",
        "\n",
        "  def setz(self):\n",
        "    return self.z\n",
        "\n",
        "class vector :\n",
        "  def getKoordinat(self, setx,sety,setz):\n",
        "    self.setx = setx\n",
        "    self.sety = sety\n",
        "    self.setz = setz\n",
        "\n",
        "  def setKoordinat(self,k):\n",
        "    koordinat = (k.setx(), k.sety(), k.setz())\n",
        "    return koordinat\n",
        "\n",
        "  def norm(self, a, b):\n",
        "    sum = 0\n",
        "    self.a = self.setKoordinat(a)\n",
        "    self.b = self.setKoordinat(b)\n",
        "    for n in range (3):\n",
        "      sum = sum + (self.a[n]- self.b[n])**2\n",
        "    return sum **0.5"
      ],
      "metadata": {
        "id": "apMJtU2GRVZo"
      },
      "execution_count": null,
      "outputs": []
    },
    {
      "cell_type": "code",
      "source": [
        "a = Koordinat(2,3,2)\n",
        "b = Koordinat(0,0,0)\n",
        "v = vector()\n",
        "v.norm(a,b)"
      ],
      "metadata": {
        "colab": {
          "base_uri": "https://localhost:8080/"
        },
        "id": "4OrdkfldtY37",
        "outputId": "606f33dd-0ec1-4876-f034-f2ec0090f04e"
      },
      "execution_count": null,
      "outputs": [
        {
          "output_type": "execute_result",
          "data": {
            "text/plain": [
              "4.123105625617661"
            ]
          },
          "metadata": {},
          "execution_count": 7
        }
      ]
    },
    {
      "cell_type": "code",
      "source": [
        "class Koordinat :\n",
        "  def __init__ (self, x,y,z,kelas):\n",
        "    self.x = x\n",
        "    self.y = y\n",
        "    self.z = z\n",
        "    self.kelas = kelas\n",
        "\n",
        "  def setx(self):\n",
        "    return self.x\n",
        "\n",
        "  def sety(self):\n",
        "    return self.y\n",
        "\n",
        "  def setz(self):\n",
        "    return self.z\n",
        "  \n",
        "  def kelas(self):\n",
        "    return self.kelas\n",
        "\n",
        "class vector :\n",
        "  def getKoordinat(self, setx, sety, setz):\n",
        "    self.setx = setx\n",
        "    self.sety = sety\n",
        "    self.setz = setz\n",
        "  \n",
        "  def setKoordinat (self,k):\n",
        "    koordinat = (k.setx(), k.sety(), k.setz())\n",
        "    return koordinat\n",
        "\n",
        "  def norm (self, a, b):\n",
        "    sum = 0\n",
        "    self.a = self.setKoordinat(a)\n",
        "    self.b = self.setKoordinat(b)\n",
        "    for n in range (3):\n",
        "      sum = sum + (self.a[n]-self.b[n])**2\n",
        "    return sum**0.5"
      ],
      "metadata": {
        "id": "8SytljPCtyzG"
      },
      "execution_count": null,
      "outputs": []
    },
    {
      "cell_type": "code",
      "source": [
        "a = Koordinat(0,1,1,0)\n",
        "b = Koordinat(2,2,2,1)\n",
        "c = Koordinat(1.5,1.2,1.5,1)\n",
        "d = Koordinat(10,9,8,0)\n",
        "e = Koordinat(5,5,5,0)\n",
        "f = Koordinat(8,8,8,0)\n",
        "g = Koordinat(6,6,1,0)\n",
        "h = Koordinat(3,3,3,None)\n",
        "v = vector()\n",
        "titik = [a,b,c,d,e,f,g,h]\n",
        "\n",
        "output = []\n",
        "for n in range (len(titik)):\n",
        "  panjang = v.norm(titik[n], titik[7])\n",
        "  output.append(panjang)\n",
        "\n",
        "print(output)\n",
        "output.sort()\n",
        "print(\"Norm paling dekat dengan H adalah : \", output[1])\n",
        "print(\"Norm kedua paling dekat dengan H adalah : \", output[2])\n",
        "print(\"Norm ketiga paling dekat dengan H adalah : \", output[3])\n",
        "print(\"Norm\", output[1], \"termasuk dalam kelas 1\")\n",
        "print(\"Norm\", output[2], \"termasuk dalam kelas 1\")\n",
        "print(\"Norm\", output[3], \"termasuk dalam kelas 0\")\n",
        "print(\"Domain kelas tetangga dari H yaitu kelas 1, sehingga H termasuk dalam kelas 1\")"
      ],
      "metadata": {
        "colab": {
          "base_uri": "https://localhost:8080/"
        },
        "id": "sl1dQiDS02uG",
        "outputId": "c81a3885-8319-45f9-9182-cf109477cd79"
      },
      "execution_count": null,
      "outputs": [
        {
          "output_type": "stream",
          "name": "stdout",
          "text": [
            "[4.123105625617661, 1.7320508075688772, 2.7820855486487113, 10.488088481701515, 3.4641016151377544, 8.660254037844387, 4.69041575982343, 0.0]\n",
            "Norm paling dekat dengan H adalah :  1.7320508075688772\n",
            "Norm kedua paling dekat dengan H adalah :  2.7820855486487113\n",
            "Norm ketiga paling dekat dengan H adalah :  3.4641016151377544\n",
            "Norm 1.7320508075688772 termasuk dalam kelas 1\n",
            "Norm 2.7820855486487113 termasuk dalam kelas 1\n",
            "Norm 3.4641016151377544 termasuk dalam kelas 0\n",
            "Domain kelas tetangga dari H yaitu kelas 1, sehingga H termasuk dalam kelas 1\n"
          ]
        }
      ]
    }
  ]
}